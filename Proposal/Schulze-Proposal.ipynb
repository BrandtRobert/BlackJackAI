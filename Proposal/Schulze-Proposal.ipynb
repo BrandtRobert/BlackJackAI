{
 "cells": [
  {
   "cell_type": "markdown",
   "metadata": {},
   "source": [
    "$\\newcommand{\\xv}{\\mathbf{x}}\n",
    "\\newcommand{\\Xv}{\\mathbf{X}}\n",
    "\\newcommand{\\yv}{\\mathbf{y}}\n",
    "\\newcommand{\\zv}{\\mathbf{z}}\n",
    "\\newcommand{\\av}{\\mathbf{a}}\n",
    "\\newcommand{\\Wv}{\\mathbf{W}}\n",
    "\\newcommand{\\wv}{\\mathbf{w}}\n",
    "\\newcommand{\\tv}{\\mathbf{t}}\n",
    "\\newcommand{\\Tv}{\\mathbf{T}}\n",
    "\\newcommand{\\muv}{\\boldsymbol{\\mu}}\n",
    "\\newcommand{\\sigmav}{\\boldsymbol{\\sigma}}\n",
    "\\newcommand{\\phiv}{\\boldsymbol{\\phi}}\n",
    "\\newcommand{\\Phiv}{\\boldsymbol{\\Phi}}\n",
    "\\newcommand{\\Sigmav}{\\boldsymbol{\\Sigma}}\n",
    "\\newcommand{\\Lambdav}{\\boldsymbol{\\Lambda}}\n",
    "\\newcommand{\\half}{\\frac{1}{2}}\n",
    "\\newcommand{\\argmax}[1]{\\underset{#1}{\\operatorname{argmax}}}\n",
    "\\newcommand{\\argmin}[1]{\\underset{#1}{\\operatorname{argmin}}}$"
   ]
  },
  {
   "cell_type": "markdown",
   "metadata": {},
   "source": [
    "# Project Proposal"
   ]
  },
  {
   "cell_type": "markdown",
   "metadata": {},
   "source": [
    "**Team:**\n",
    "* *Kelsey Cribari*\n",
    "* *Brandt Reutimann*\n",
    "* *Courtney Schulze*"
   ]
  },
  {
   "cell_type": "markdown",
   "metadata": {},
   "source": [
    "## Introduction"
   ]
  },
  {
   "cell_type": "markdown",
   "metadata": {},
   "source": [
    "In the game of blackjack, players are dealt two cards, and they are dealt cards until they reach or get as close as then can to a card value totaling twenty-one. If the player’s total goes over twenty-one, the player busts and they lose their money. If the player’s total is less than the dealer’s total, the player also loses their money.  Generally, there is a universally accepted basic blackjack strategy.  If players play with this proper strategy, then the dealer only has about a 0.05% advantage. In other words, “if you are playing for $100 per hand, you can expect to lose about 50 cents each hand.”\n",
    " \n",
    "Because of this interesting nature of the basic blackjack strategy, we would first like to train a computer via reinforcement learning to “discover” this basic strategy.  Will the computer naturally learn the strategy that all professional blackjack players accept as “proper”? That’s what we aim to find out.\n",
    "\n",
    "We will need to implement a temporal difference reinforcement learning algorithm, as well as a basic “rule-set” for the dealer. \n"
   ]
  },
  {
   "cell_type": "markdown",
   "metadata": {},
   "source": [
    "## Methods"
   ]
  },
  {
   "cell_type": "markdown",
   "metadata": {},
   "source": [
    "1. Algorithms:\n",
    " * Temporal Difference Reinforcement Learning\n",
    "    * In the initial implementation we plan on using reinforcements of 1 if you beat the dealer, 0 if you push (tie with the dealer), and -1 if you lose.\n",
    "    *As we start adding doubling down and splitting we will change the reinforcements to reflect the returned values. So we will change the reinforcements:\n",
    "       - Basic win against the dealer: +5\n",
    "       - Basic loss against the dealer: -5\n",
    "       - Push: 0\n",
    "       - Doubling down or splitting win: +10\n",
    "       - Doubling down or splitting loss: -10\n",
    " * Betting Strategy\n",
    "      * In this step, we will try to implement a betting strategy:\n",
    "          *  Ultimately, if the house has an edge of 5% then on average (even with perfect strategy) you will lose money. With this realization it would be rather trivial to use reinforcement learning on betting strategy as in we theorize the best strategy over the long run would to be to bet the minimum amount in order to minimize losses.\n",
    "          * If we have time we can test this assumption using reinforcement learning (it could be an interesting question).\n",
    "      * Our basic betting strategy:\n",
    "          * Our basic strategy is going to be hot streak related. That is that we will have a soft curve where the amount bet increases exponentially with consecutive wins.\n",
    "    "
   ]
  },
  {
   "cell_type": "markdown",
   "metadata": {},
   "source": [
    "## Possible Results\n",
    "\n",
    "We hope to see that if we positively reinforce the computer whenever it wins a hand and negatively reinforce it whenever it loses a hand, the computer will develop a strategy very, very similar to the basic blackjack strategy, which is pictured below. After training the computer’s Q table, we could “ask” it what it would do given a certain card and if the dealer is showing a certain card, which we can then use to create a chart.\n",
    "\n",
    "![alt text](https://www.blackjackclassroom.com/wp-content/uploads/2017/02/Blackjack-Basic-Strategy-Chart.png \"Basic Blackjack Strategy\")\n",
    "(Photo courtesy of [Blackjack Classroom](https://www.blackjackclassroom.com/blackjack-basic-strategy-charts))\n",
    "\n",
    "Additionally, we believe that with a correctly implemented betting strategy, the computer will win money."
   ]
  },
  {
   "cell_type": "markdown",
   "metadata": {},
   "source": [
    "## Timeline\n",
    "\n",
    "* **11/10/17** -- State representations completed\n",
    "    * Deck representation (Brandt)\n",
    "    * Player representation (Courtney)\n",
    "    * Dealer representation & makeMove (Kelsey)\n",
    "* **11/17/17** -- Basic implementation of reinforcement learning algorithm completed\n",
    "    * Gameplay (Brandt, Kelsey, and Courtney)\n",
    "    * Reinforcement (Brandt, Kelsey, and Courtney)\n",
    "* **12/2/17** -- Double down and splitting additions completed\n",
    "    * Double down additions (Brandt)\n",
    "    * Splitting additions (Kelsey)\n",
    "    * Reinforcement modification (Courtney)\n",
    "* **12/9/17** -- Betting strategy, added decks, surrender and other optimization techniques (counting cards)\n",
    "    * Betting strategy (Brandt with help from Kelsey and Courtney)\n",
    "    * Added decks and surrender strategy (Kelsey)\n",
    "    * Counting cards (Courtney)"
   ]
  }
 ],
 "metadata": {
  "kernelspec": {
   "display_name": "Python 3",
   "language": "python",
   "name": "python3"
  },
  "language_info": {
   "codemirror_mode": {
    "name": "ipython",
    "version": 3
   },
   "file_extension": ".py",
   "mimetype": "text/x-python",
   "name": "python",
   "nbconvert_exporter": "python",
   "pygments_lexer": "ipython3",
   "version": "3.6.1"
  }
 },
 "nbformat": 4,
 "nbformat_minor": 1
}
