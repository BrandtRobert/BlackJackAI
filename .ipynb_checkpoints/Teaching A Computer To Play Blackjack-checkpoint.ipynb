{
 "cells": [
  {
   "cell_type": "markdown",
   "metadata": {},
   "source": [
    "# Teaching A Computer To Play Blackjack\n",
    "\n",
    "*by Kelsey Cribari, Brandt Reutimann, and Courtney Schulze - December, 2017*"
   ]
  },
  {
   "cell_type": "markdown",
   "metadata": {},
   "source": [
    "## Introduction\n",
    "*The What. The Why. The How.*\n",
    "\n",
    "It all started when a member of the iconic trio went to Las Vegas for a weekend over the semester. While she had never gambled before, everyone would soon find out that Courtney loved blackjack ... a lot. Although her wallet was empty, Courtney left Vegas rich in experience and Blackjack knowledge. Born out of that trip and lost money came an idea, an idea for a CS440 final project.\n",
    "\n",
    "For those of you reading this report who might not know, in the game of blackjack, players are dealt two cards, and they are dealt cards until they reach or get as close as then can to a card value totaling twenty-one. If the player’s total goes over twenty-one, the player busts and they lose their money. If the player’s total is less than the dealer’s total, the player also loses their money. Really, the player tends to lose their money quite a lot. However, there is a generally universally accepted basic blackjack strategy. If players play with this proper strategy, then the dealer only has about a 0.05% advantage. In other words, “if you are playing for $100 per hand, you can expect to lose about 50 cents each hand.” A chart of this proper strategy is found below:\n",
    "\n",
    "![alt text](https://www.blackjackclassroom.com/wp-content/uploads/2017/02/Blackjack-Basic-Strategy-Chart.png \"Basic Blackjack Strategy\")\n",
    "(Photo courtesy of [Blackjack Classroom](https://www.blackjackclassroom.com/blackjack-basic-strategy-charts))"
   ]
  },
  {
   "cell_type": "markdown",
   "metadata": {},
   "source": [
    "Because of this interesting nature of the basic blackjack strategy, we thought it would be a fascinating project to try training a computer to play blackjack through basic artifical intelligence principles, namely reinforcement learning. Would the computer naturally learn the strategy that all professional blackjack players accept as “proper”? That’s what we set to find out.\n",
    "\n",
    "### Overview of Methods:\n",
    "* Temporal Difference Reinforcement Learning: In the inital implementation of the game, we used reinforcements of 1 if you beat the dealer, 0 if you push (tie with the dealer), and -1 if you lose.\n",
    "\n",
    "### Overview of Results:\n",
    "** put results here **"
   ]
  },
  {
   "cell_type": "markdown",
   "metadata": {},
   "source": [
    "## Method\n",
    "*The steps we took. The resources we used. The work we shared.*"
   ]
  },
  {
   "cell_type": "markdown",
   "metadata": {},
   "source": [
    "### Phase One:\n",
    "The first phase was comprised of creating deck, player, and dealer representations for the game. Feel free to run the code below."
   ]
  },
  {
   "cell_type": "markdown",
   "metadata": {},
   "source": [
    "#### Deck:\n",
    "*Main Author: Brandt Reutimann*\n",
    "\n",
    "The deck is a relatively standard card deck, except suits are naturally ignored. All face cards are represented by 10's (since for blackjack, a king is the same as a queen which is the same as a ten). \n",
    "\n",
    "A new deck is shuffled by default. This feature can be turned off by passing ```deck = BlackJackDeck (shuffleCards = False)```.\n",
    "\n",
    "Suits and faces can be activated with ```deck = BlackJackDeck (SuitsAndFaces = True)```."
   ]
  },
  {
   "cell_type": "code",
   "execution_count": 1,
   "metadata": {
    "collapsed": true
   },
   "outputs": [],
   "source": [
    "from src.Deck import BlackJackDeck"
   ]
  },
  {
   "cell_type": "code",
   "execution_count": 2,
   "metadata": {},
   "outputs": [
    {
     "name": "stdout",
     "output_type": "stream",
     "text": [
      "Example of drawing 10 random cards without suits or faces:\n",
      "10\n",
      "6\n",
      "10\n",
      "8\n",
      "2\n",
      "2\n",
      "2\n",
      "10\n",
      "5\n",
      "9\n"
     ]
    }
   ],
   "source": [
    "print (\"Example of drawing 10 random cards without suits or faces:\")\n",
    "deck = BlackJackDeck()\n",
    "for i in range (0, 10):\n",
    "    print (deck.drawCard())"
   ]
  },
  {
   "cell_type": "code",
   "execution_count": 3,
   "metadata": {},
   "outputs": [
    {
     "name": "stdout",
     "output_type": "stream",
     "text": [
      "Example of drawing 10 random cards with suits and faces:\n",
      "(4, 'S')\n",
      "(9, 'S')\n",
      "(3, 'H')\n",
      "(10, 'C')\n",
      "(4, 'C')\n",
      "('J', 'C')\n",
      "(6, 'H')\n",
      "(4, 'D')\n",
      "(9, 'D')\n",
      "('Q', 'S')\n"
     ]
    }
   ],
   "source": [
    "print (\"Example of drawing 10 random cards with suits and faces:\")\n",
    "deckSuits = BlackJackDeck(SuitsAndFaces = True)\n",
    "for i in range (0, 10):\n",
    "    print (deckSuits.drawCard())"
   ]
  },
  {
   "cell_type": "markdown",
   "metadata": {},
   "source": [
    "#### Player:\n",
    "*Main Author: Courtney Schulze*\n",
    "\n",
    "A player consists of a hand and a current card count (which is the current card total of the cards in their hand). A player has a list of valid moves they can make (either stand or hit). When a player hits, a card is drawn from the deck and added to the player's hand. If the card count after the new card is greater than 21, then the player busts. "
   ]
  },
  {
   "cell_type": "code",
   "execution_count": 4,
   "metadata": {},
   "outputs": [],
   "source": [
    "from src.Player import Player"
   ]
  },
  {
   "cell_type": "code",
   "execution_count": 5,
   "metadata": {},
   "outputs": [
    {
     "name": "stdout",
     "output_type": "stream",
     "text": [
      "The player's current hand is: [5, 10]\n",
      "The cards in the player's hand total: 15\n",
      "Valid moves: ['stand', 'hit', 'double']\n"
     ]
    }
   ],
   "source": [
    "# create both deck and player\n",
    "deck = BlackJackDeck()\n",
    "player = Player()\n",
    "\n",
    "#put first two cards in player's hand\n",
    "player.addCardToHand(deck.drawCard())\n",
    "player.addCardToHand(deck.drawCard())\n",
    "\n",
    "print(\"The player's current hand is: \" + str(player.getHand()))\n",
    "print(\"The cards in the player's hand total: \" + str(player.getCardCount()))\n",
    "print(\"Valid moves: \" + str(player.validMoves()))"
   ]
  },
  {
   "cell_type": "code",
   "execution_count": 6,
   "metadata": {},
   "outputs": [
    {
     "name": "stdout",
     "output_type": "stream",
     "text": [
      "The player takes a card. Here are the results: [5, 8, 10]\n",
      "The player busted based on the previous hit: True\n"
     ]
    }
   ],
   "source": [
    "print(\"The player takes a card. Here are the results: \" + str(player.hit(deck)))\n",
    "print(\"The player busted based on the previous hit: \" + str(player.bust))"
   ]
  },
  {
   "cell_type": "markdown",
   "metadata": {},
   "source": [
    "What happens if the player keeps hitting until they get to a total greater than 21?"
   ]
  },
  {
   "cell_type": "code",
   "execution_count": 7,
   "metadata": {},
   "outputs": [],
   "source": [
    "if (player.getCardCount() < 21):\n",
    "    while not player.bust:\n",
    "        result = player.hit(deck)\n",
    "        print(\"Player's hand: \" + str(player.getHand()))\n",
    "    print(\"Player busted! Card total was: \" + str(player.getCardCount()))"
   ]
  },
  {
   "cell_type": "markdown",
   "metadata": {},
   "source": [
    "#### Dealer:\n",
    "*Main Author: Kelsey Cribari*\n",
    "\n",
    "A dealer is pretty much a player, but they have a more specific ruleset they have to follow in terms of valid moves."
   ]
  },
  {
   "cell_type": "code",
   "execution_count": 8,
   "metadata": {
    "collapsed": true
   },
   "outputs": [],
   "source": [
    "from src.Dealer import BlackJackDealer"
   ]
  },
  {
   "cell_type": "code",
   "execution_count": 9,
   "metadata": {},
   "outputs": [
    {
     "name": "stdout",
     "output_type": "stream",
     "text": [
      "Dealer's faceup card: 2\n",
      "Dealer's hand: [10, 2]\n",
      "The dealer has to: hit\n"
     ]
    }
   ],
   "source": [
    "# create both dealer and deck\n",
    "deck = BlackJackDeck()\n",
    "dealer = BlackJackDealer()\n",
    "\n",
    "dealer.hand.append(deck.drawCard())\n",
    "# deal second card to dealer\n",
    "dealerFaceCard = deck.drawCard()\n",
    "dealer.hand.append(dealerFaceCard)\n",
    "# keep track of the card that is face up on the dealer so the player knows what to base their moves off of\n",
    "dealer.faceUpCard = dealerFaceCard\n",
    "\n",
    "print(\"Dealer's faceup card: \" + str(dealer.faceUpCard))\n",
    "print(\"Dealer's hand: \" + str(dealer.hand))\n",
    "print(\"The dealer has to: \" + str(dealer.dealerValidMoves()))"
   ]
  },
  {
   "cell_type": "markdown",
   "metadata": {},
   "source": [
    "### Phase Two:\n",
    "This phase consisted of doing the game representation and writing the trainQ and testQ methods."
   ]
  },
  {
   "cell_type": "markdown",
   "metadata": {},
   "source": [
    "#### Game\n",
    "*Main Authors: Kelsey Cribari and Brandt Reutimann*\n",
    "\n",
    "** Kelsey is going to write things here **"
   ]
  },
  {
   "cell_type": "code",
   "execution_count": 10,
   "metadata": {
    "collapsed": true
   },
   "outputs": [],
   "source": [
    "from src.Game import BlackJackGame"
   ]
  },
  {
   "cell_type": "markdown",
   "metadata": {},
   "source": [
    "#### TrainQ and TestQ\n",
    "*Main Authors: Kelsey Cribari and Brandt Reutimann*\n",
    "\n",
    "Here's the part in which we trained our player! Reinforcement for a combination of the player's hand and the dealer's up card was only positive when the player won. Reinforcement was negative when the player lost. Take a gander at the code below - in this code, the learning rate is 0.6, and the epsilon decay factor is 0.8. Q is trained over 100000 iterations."
   ]
  },
  {
   "cell_type": "code",
   "execution_count": 11,
   "metadata": {},
   "outputs": [
    {
     "name": "stdout",
     "output_type": "stream",
     "text": [
      "calling testQ\n",
      "Initial Hand: [6, 9], Player: [6, 9], Dealer: [8, 2, 9], Result: loss\n",
      "Initial Hand: [4, 10], Player: [4, 10], Dealer: [6, 3, 10], Result: loss\n",
      "Initial Hand: [3, 4], Player: [3, 4, 'A'], Dealer: [9, 3, 10], Result: win\n",
      "Initial Hand: [7, 10], Player: [7, 10], Dealer: [2, 9, 8], Result: loss\n",
      "Initial Hand: [10, 10], Player: [10, 10], Dealer: [10, 9], Result: win\n",
      "Initial Hand: [10, 10], Player: [10, 10], Dealer: [6, 10, 'A'], Result: win\n",
      "Initial Hand: [2, 5], Player: [2, 5, 'A'], Dealer: [9, 3, 3], Result: win\n",
      "Initial Hand: [6, 10], Player: [6, 10], Dealer: [5, 5, 10], Result: loss\n",
      "Initial Hand: [3, 6], Player: [3, 6, 7], Dealer: [8, 6, 'A'], Result: win\n",
      "Initial Hand: [4, 10], Player: [4, 10, 'A'], Dealer: [4, 2, 2, 8], Result: loss\n",
      "Win rate was: 44.4\n"
     ]
    }
   ],
   "source": [
    "game = BlackJackGame()\n",
    "Q = game.trainQ(100000, .6, .8)\n",
    "print ('calling testQ')\n",
    "winRate = game.testQ(Q, 1000, True)\n",
    "print ('Win rate was: {}'.format(winRate))"
   ]
  },
  {
   "cell_type": "code",
   "execution_count": 12,
   "metadata": {},
   "outputs": [
    {
     "name": "stdout",
     "output_type": "stream",
     "text": [
      "Average win rate for learningRate = 0.6 and epsilonDecayFactor = 0.8: 43.989999999999995\n"
     ]
    }
   ],
   "source": [
    "def averageWinRate(learningRate, epsilonDecayFactor):\n",
    "    sumWin = 0.0\n",
    "    for i in range(10):\n",
    "        game = BlackJackGame()\n",
    "        Q = game.trainQ(100000, learningRate, epsilonDecayFactor)\n",
    "        winRate = game.testQ(Q, 1000)\n",
    "        sumWin += winRate\n",
    "    \n",
    "    return sumWin / 10\n",
    "\n",
    "print(\"Average win rate for learningRate = 0.6 and epsilonDecayFactor = 0.8: \" + str(averageWinRate(0.6, 0.8)))"
   ]
  },
  {
   "cell_type": "markdown",
   "metadata": {},
   "source": [
    "In most version of the average win rate above, the win rate comes out to about 45%. This makes sense: when playing with proper strategy, the house should only have about a 0.05% advantage, bringing the player's win rate to 45%. According to [Wizard of Odds](https://wizardofodds.com/games/blackjack/appendix/4/), the probability of a net win in blackjack is 42.42%. If ties are ignored, that jumps to about 46.35%. However, we wondered if we could make that win rate better by playing around with the learning rate and epsilon decay factor for 100,000 iterations. Therefore, Courtney put on her investigation hat to see how high we could get that win rate."
   ]
  },
  {
   "cell_type": "code",
   "execution_count": 13,
   "metadata": {},
   "outputs": [
    {
     "name": "stdout",
     "output_type": "stream",
     "text": [
      "Please be prepared to wait a while.\n",
      "Testing learningRate = 0.5 and epsilonDecayFactor = 0.5\n",
      "Average win rate for learningRate = 0.5 and epsilonDecayFactor = 0.5: 44.64\n",
      "Testing learningRate = 0.99 and epsilonDecayFactor = 0.3\n",
      "Average win rate for learningRate = 0.99 and epsilonDecayFactor = 0.3: 40.71\n",
      "Testing learningRate = 0.99 and epsilonDecayFactor = 0.8\n",
      "Average win rate for learningRate = 0.99 and epsilonDecayFactor = 0.8: 41.4\n",
      "Testing learningRate = 0.3 and epsilonDecayFactor = 0.3\n",
      "Average win rate for learningRate = 0.3 and epsilonDecayFactor = 0.3: 44.39\n",
      "Testing learningRate = 0.3 and epsilonDecayFactor = 0.99\n",
      "Average win rate for learningRate = 0.3 and epsilonDecayFactor = 0.99: 45.77\n"
     ]
    }
   ],
   "source": [
    "def testDifferentValues():\n",
    "    print(\"Testing learningRate = 0.5 and epsilonDecayFactor = 0.5\")\n",
    "    print(\"Average win rate for learningRate = 0.5 and epsilonDecayFactor = 0.5: \" + str(averageWinRate(0.5, 0.5)))\n",
    "    \n",
    "    print(\"Testing learningRate = 0.99 and epsilonDecayFactor = 0.3\")\n",
    "    print(\"Average win rate for learningRate = 0.99 and epsilonDecayFactor = 0.3: \" + str(averageWinRate(0.99, 0.3)))\n",
    "    \n",
    "    print(\"Testing learningRate = 0.99 and epsilonDecayFactor = 0.8\")\n",
    "    print(\"Average win rate for learningRate = 0.99 and epsilonDecayFactor = 0.8: \" + str(averageWinRate(0.99, 0.8)))\n",
    "    \n",
    "    print(\"Testing learningRate = 0.3 and epsilonDecayFactor = 0.3\")\n",
    "    print(\"Average win rate for learningRate = 0.3 and epsilonDecayFactor = 0.3: \" + str(averageWinRate(0.3, 0.3)))\n",
    "    \n",
    "    print(\"Testing learningRate = 0.3 and epsilonDecayFactor = 0.99\")\n",
    "    print(\"Average win rate for learningRate = 0.3 and epsilonDecayFactor = 0.99: \" + str(averageWinRate(0.3, 0.99)))\n",
    "\n",
    "print(\"Please be prepared to wait a while.\")\n",
    "testDifferentValues()"
   ]
  },
  {
   "cell_type": "markdown",
   "metadata": {},
   "source": [
    "Taking a look at these results, the best thing to do seems to be use a bit lower of a learning rate, and don't make the epsilonDecayFactor too large or small."
   ]
  },
  {
   "cell_type": "markdown",
   "metadata": {},
   "source": [
    "## Results\n",
    "*The results we got.*"
   ]
  },
  {
   "cell_type": "markdown",
   "metadata": {},
   "source": [
    "## Conclusions\n",
    "*The things we learned.*"
   ]
  },
  {
   "cell_type": "code",
   "execution_count": null,
   "metadata": {
    "collapsed": true
   },
   "outputs": [],
   "source": []
  }
 ],
 "metadata": {
  "kernelspec": {
   "display_name": "Python 3",
   "language": "python",
   "name": "python3"
  },
  "language_info": {
   "codemirror_mode": {
    "name": "ipython",
    "version": 3
   },
   "file_extension": ".py",
   "mimetype": "text/x-python",
   "name": "python",
   "nbconvert_exporter": "python",
   "pygments_lexer": "ipython3",
   "version": "3.6.1"
  }
 },
 "nbformat": 4,
 "nbformat_minor": 2
}
